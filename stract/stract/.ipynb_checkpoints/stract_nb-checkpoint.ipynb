{
 "cells": [
  {
   "cell_type": "markdown",
   "metadata": {},
   "source": [
    "# Getting started"
   ]
  },
  {
   "cell_type": "code",
   "execution_count": 2,
   "metadata": {
    "scrolled": true
   },
   "outputs": [
    {
     "name": "stdout",
     "output_type": "stream",
     "text": [
      "Requirement already satisfied: numpy in /usr/local/lib/python3.7/site-packages (1.16.4)\n",
      "Requirement already satisfied: pandas in /usr/local/lib/python3.7/site-packages (0.25.0)\n",
      "Requirement already satisfied: matplotlib in /usr/local/lib/python3.7/site-packages (3.1.1)\n",
      "Requirement already satisfied: seaborn in /usr/local/lib/python3.7/site-packages (0.9.0)\n",
      "Requirement already satisfied: pytz>=2017.2 in /usr/local/lib/python3.7/site-packages (from pandas) (2019.1)\n",
      "Requirement already satisfied: python-dateutil>=2.6.1 in /Users/ochoa/Library/Python/3.7/lib/python/site-packages (from pandas) (2.8.0)\n",
      "Requirement already satisfied: cycler>=0.10 in /usr/local/lib/python3.7/site-packages (from matplotlib) (0.10.0)\n",
      "Requirement already satisfied: pyparsing!=2.0.4,!=2.1.2,!=2.1.6,>=2.0.1 in /usr/local/lib/python3.7/site-packages (from matplotlib) (2.4.1.1)\n",
      "Requirement already satisfied: kiwisolver>=1.0.1 in /usr/local/lib/python3.7/site-packages (from matplotlib) (1.1.0)\n",
      "Requirement already satisfied: scipy>=0.14.0 in /usr/local/lib/python3.7/site-packages (from seaborn) (1.3.0)\n",
      "Requirement already satisfied: six>=1.5 in /Users/ochoa/Library/Python/3.7/lib/python/site-packages (from python-dateutil>=2.6.1->pandas) (1.12.0)\n",
      "Requirement already satisfied: setuptools in /usr/local/lib/python3.7/site-packages (from kiwisolver>=1.0.1->matplotlib) (40.8.0)\n",
      "Note: you may need to restart the kernel to use updated packages.\n"
     ]
    }
   ],
   "source": [
    "pip install numpy pandas matplotlib seaborn"
   ]
  },
  {
   "cell_type": "code",
   "execution_count": 3,
   "metadata": {},
   "outputs": [],
   "source": [
    "import numpy as np\n",
    "import pandas as pd\n",
    "import seaborn as sb\n",
    "import matplotlib.pyplot as mplot"
   ]
  },
  {
   "cell_type": "code",
   "execution_count": 4,
   "metadata": {},
   "outputs": [],
   "source": [
    "# Load Quaatlas matrix and create dataframe\n",
    "quaatlas = pd.read_csv('./../data/quaatlas/matrix.csv')"
   ]
  },
  {
   "cell_type": "code",
   "execution_count": 24,
   "metadata": {},
   "outputs": [
    {
     "data": {
      "text/html": [
       "<div>\n",
       "<style scoped>\n",
       "    .dataframe tbody tr th:only-of-type {\n",
       "        vertical-align: middle;\n",
       "    }\n",
       "\n",
       "    .dataframe tbody tr th {\n",
       "        vertical-align: top;\n",
       "    }\n",
       "\n",
       "    .dataframe thead th {\n",
       "        text-align: right;\n",
       "    }\n",
       "</style>\n",
       "<table border=\"1\" class=\"dataframe\">\n",
       "  <thead>\n",
       "    <tr style=\"text-align: right;\">\n",
       "      <th></th>\n",
       "      <th>name</th>\n",
       "      <th>location</th>\n",
       "      <th>bytes</th>\n",
       "      <th>locs</th>\n",
       "      <th>clocs</th>\n",
       "      <th>elocs</th>\n",
       "      <th>declarations</th>\n",
       "      <th>classes</th>\n",
       "      <th>interfaces</th>\n",
       "      <th>types</th>\n",
       "      <th>methods</th>\n",
       "      <th>fields</th>\n",
       "      <th>methodInvocations</th>\n",
       "      <th>fieldAccesses</th>\n",
       "      <th>extends</th>\n",
       "      <th>implements</th>\n",
       "    </tr>\n",
       "  </thead>\n",
       "  <tbody>\n",
       "    <tr>\n",
       "      <th>0</th>\n",
       "      <td>informa</td>\n",
       "      <td>|file:///Users/ochoa/Documents/cwi/crossminer/...</td>\n",
       "      <td>8989357</td>\n",
       "      <td>18802</td>\n",
       "      <td>9082</td>\n",
       "      <td>9720</td>\n",
       "      <td>4320</td>\n",
       "      <td>115</td>\n",
       "      <td>45</td>\n",
       "      <td>160</td>\n",
       "      <td>1309</td>\n",
       "      <td>485</td>\n",
       "      <td>2456</td>\n",
       "      <td>1296</td>\n",
       "      <td>73</td>\n",
       "      <td>61</td>\n",
       "    </tr>\n",
       "    <tr>\n",
       "      <th>1</th>\n",
       "      <td>webmail</td>\n",
       "      <td>|file:///Users/ochoa/Documents/cwi/crossminer/...</td>\n",
       "      <td>9845438</td>\n",
       "      <td>12653</td>\n",
       "      <td>4486</td>\n",
       "      <td>8167</td>\n",
       "      <td>3045</td>\n",
       "      <td>79</td>\n",
       "      <td>11</td>\n",
       "      <td>90</td>\n",
       "      <td>859</td>\n",
       "      <td>216</td>\n",
       "      <td>2331</td>\n",
       "      <td>927</td>\n",
       "      <td>42</td>\n",
       "      <td>20</td>\n",
       "    </tr>\n",
       "    <tr>\n",
       "      <th>2</th>\n",
       "      <td>jasml</td>\n",
       "      <td>|file:///Users/ochoa/Documents/cwi/crossminer/...</td>\n",
       "      <td>319674</td>\n",
       "      <td>6082</td>\n",
       "      <td>551</td>\n",
       "      <td>5531</td>\n",
       "      <td>1553</td>\n",
       "      <td>48</td>\n",
       "      <td>1</td>\n",
       "      <td>49</td>\n",
       "      <td>248</td>\n",
       "      <td>505</td>\n",
       "      <td>904</td>\n",
       "      <td>1132</td>\n",
       "      <td>23</td>\n",
       "      <td>2</td>\n",
       "    </tr>\n",
       "    <tr>\n",
       "      <th>3</th>\n",
       "      <td>hsqldb</td>\n",
       "      <td>|file:///Users/ochoa/Documents/cwi/crossminer/...</td>\n",
       "      <td>17130467</td>\n",
       "      <td>178283</td>\n",
       "      <td>60843</td>\n",
       "      <td>117440</td>\n",
       "      <td>36271</td>\n",
       "      <td>426</td>\n",
       "      <td>54</td>\n",
       "      <td>480</td>\n",
       "      <td>8530</td>\n",
       "      <td>6009</td>\n",
       "      <td>25796</td>\n",
       "      <td>28360</td>\n",
       "      <td>204</td>\n",
       "      <td>191</td>\n",
       "    </tr>\n",
       "    <tr>\n",
       "      <th>4</th>\n",
       "      <td>htmlunit</td>\n",
       "      <td>|file:///Users/ochoa/Documents/cwi/crossminer/...</td>\n",
       "      <td>53219070</td>\n",
       "      <td>75506</td>\n",
       "      <td>35502</td>\n",
       "      <td>40004</td>\n",
       "      <td>15887</td>\n",
       "      <td>461</td>\n",
       "      <td>27</td>\n",
       "      <td>488</td>\n",
       "      <td>5047</td>\n",
       "      <td>1635</td>\n",
       "      <td>13047</td>\n",
       "      <td>3282</td>\n",
       "      <td>385</td>\n",
       "      <td>178</td>\n",
       "    </tr>\n",
       "  </tbody>\n",
       "</table>\n",
       "</div>"
      ],
      "text/plain": [
       "       name                                           location     bytes  \\\n",
       "0   informa  |file:///Users/ochoa/Documents/cwi/crossminer/...   8989357   \n",
       "1   webmail  |file:///Users/ochoa/Documents/cwi/crossminer/...   9845438   \n",
       "2     jasml  |file:///Users/ochoa/Documents/cwi/crossminer/...    319674   \n",
       "3    hsqldb  |file:///Users/ochoa/Documents/cwi/crossminer/...  17130467   \n",
       "4  htmlunit  |file:///Users/ochoa/Documents/cwi/crossminer/...  53219070   \n",
       "\n",
       "     locs  clocs   elocs  declarations  classes  interfaces  types  methods  \\\n",
       "0   18802   9082    9720          4320      115          45    160     1309   \n",
       "1   12653   4486    8167          3045       79          11     90      859   \n",
       "2    6082    551    5531          1553       48           1     49      248   \n",
       "3  178283  60843  117440         36271      426          54    480     8530   \n",
       "4   75506  35502   40004         15887      461          27    488     5047   \n",
       "\n",
       "   fields  methodInvocations  fieldAccesses  extends  implements  \n",
       "0     485               2456           1296       73          61  \n",
       "1     216               2331            927       42          20  \n",
       "2     505                904           1132       23           2  \n",
       "3    6009              25796          28360      204         191  \n",
       "4    1635              13047           3282      385         178  "
      ]
     },
     "execution_count": 24,
     "metadata": {},
     "output_type": "execute_result"
    }
   ],
   "source": [
    "# Let's check first rows of the dataframe\n",
    "quaatlas.head()"
   ]
  },
  {
   "cell_type": "markdown",
   "metadata": {},
   "source": [
    "# Visualizations"
   ]
  },
  {
   "cell_type": "code",
   "execution_count": 20,
   "metadata": {},
   "outputs": [
    {
     "data": {
      "image/png": "[encoded data removed]",
      "text/plain": [
       "<Figure size 900x500 with 1 Axes>"
      ]
     },
     "metadata": {
      "needs_background": "light"
     },
     "output_type": "display_data"
    }
   ],
   "source": [
    "# Set size of the figure\n",
    "mplot.figure(figsize=(9,5), dpi=100)\n",
    "\n",
    "# Set title and labels\n",
    "mplot.title('Declarations per Project')\n",
    "mplot.xlabel('Number of declarations')\n",
    "mplot.ylabel('Number of projects')\n",
    "\n",
    "# Create histogram\n",
    "mplot.hist(quaatlas['declarations'], rwidth=0.9, bins=77)\n",
    "mplot.show()"
   ]
  },
  {
   "cell_type": "code",
   "execution_count": 36,
   "metadata": {},
   "outputs": [
    {
     "data": {
      "image/png": "[encoded data removed]",
      "text/plain": [
       "<Figure size 432x288 with 1 Axes>"
      ]
     },
     "metadata": {
      "needs_background": "light"
     },
     "output_type": "display_data"
    }
   ],
   "source": [
    "sb.distplot(quaatlas['declarations'], bins=60, kde=False, rug=True);"
   ]
  },
  {
   "cell_type": "code",
   "execution_count": 37,
   "metadata": {},
   "outputs": [
    {
     "data": {
      "image/png": "[encoded data removed]",
      "text/plain": [
       "<Figure size 432x288 with 1 Axes>"
      ]
     },
     "metadata": {
      "needs_background": "light"
     },
     "output_type": "display_data"
    }
   ],
   "source": [
    "sb.distplot(quaatlas['types'], bins=60, kde=False, rug=True);"
   ]
  },
  {
   "cell_type": "code",
   "execution_count": 38,
   "metadata": {},
   "outputs": [
    {
     "data": {
      "image/png": "[encoded data removed]",
      "text/plain": [
       "<Figure size 432x288 with 1 Axes>"
      ]
     },
     "metadata": {
      "needs_background": "light"
     },
     "output_type": "display_data"
    }
   ],
   "source": [
    "sb.distplot(quaatlas['methods'], bins=60, kde=False, rug=True);"
   ]
  },
  {
   "cell_type": "code",
   "execution_count": 39,
   "metadata": {},
   "outputs": [
    {
     "data": {
      "image/png": "[encoded data removed]",
      "text/plain": [
       "<Figure size 432x288 with 1 Axes>"
      ]
     },
     "metadata": {
      "needs_background": "light"
     },
     "output_type": "display_data"
    }
   ],
   "source": [
    "sb.distplot(quaatlas['fields'], bins=60, kde=False, rug=True);"
   ]
  },
  {
   "cell_type": "code",
   "execution_count": 22,
   "metadata": {},
   "outputs": [
    {
     "data": {
      "text/plain": [
       "<seaborn.axisgrid.FacetGrid at 0x106bc6470>"
      ]
     },
     "execution_count": 22,
     "metadata": {},
     "output_type": "execute_result"
    },
    {
     "data": {
      "image/png": "[encoded data removed]",
      "text/plain": [
       "<Figure size 360x360 with 1 Axes>"
      ]
     },
     "metadata": {
      "needs_background": "light"
     },
     "output_type": "display_data"
    }
   ],
   "source": [
    "sb.relplot(x=\"declarations\", y=\"classes\", data=quaatlas)"
   ]
  },
  {
   "cell_type": "code",
   "execution_count": 40,
   "metadata": {},
   "outputs": [
    {
     "data": {
      "image/png": "[encoded data removed]",
      "text/plain": [
       "<Figure size 432x288 with 2 Axes>"
      ]
     },
     "metadata": {
      "needs_background": "light"
     },
     "output_type": "display_data"
    }
   ],
   "source": [
    "fig, axs = mplot.subplots(ncols=2)\n",
    "sb.distplot(quaatlas['declarations'], bins=60, kde=False, rug=True, ax=axs[0][0]);\n",
    "sb.distplot(quaatlas['types'], bins=60, kde=False, rug=True, ax=axs[1][0]);\n",
    "sb.distplot(quaatlas['methods'], bins=60, kde=False, rug=True, ax=axs[0][1]);\n",
    "sb.distplot(quaatlas['fields'], bins=60, kde=False, rug=True, ax=axs[1][1]);"
   ]
  },
  {
   "cell_type": "code",
   "execution_count": null,
   "metadata": {},
   "outputs": [],
   "source": []
  }
 ],
 "metadata": {
  "kernelspec": {
   "display_name": "Python 3",
   "language": "python",
   "name": "python3"
  },
  "language_info": {
   "codemirror_mode": {
    "name": "ipython",
    "version": 3
   },
   "file_extension": ".py",
   "mimetype": "text/x-python",
   "name": "python",
   "nbconvert_exporter": "python",
   "pygments_lexer": "ipython3",
   "version": "3.7.3"
  }
 },
 "nbformat": 4,
 "nbformat_minor": 2
}
